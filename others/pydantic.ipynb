{
 "cells": [
  {
   "cell_type": "code",
   "execution_count": 4,
   "metadata": {},
   "outputs": [],
   "source": [
    "import os\n",
    "import nest_asyncio\n",
    "from pydantic_ai import Agent, ModelRetry\n",
    "from pydantic_ai.models.openai import OpenAIModel\n",
    "\n",
    "nest_asyncio.apply()\n",
    "\n",
    "model = OpenAIModel('gpt-4o-mini')\n",
    "\n",
    "agent = Agent(\n",
    "    model,\n",
    "    system_prompt='Be very concise, reply with one sentence only.',\n",
    "    retries=3\n",
    ")"
   ]
  },
  {
   "cell_type": "code",
   "execution_count": 8,
   "metadata": {},
   "outputs": [
    {
     "name": "stdout",
     "output_type": "stream",
     "text": [
      "RunResult(_all_messages=[ModelRequest(parts=[SystemPromptPart(content='Be very concise, reply with one sentence only.', part_kind='system-prompt'), UserPromptPart(content=\"Where does 'hello world' come from ?\", timestamp=datetime.datetime(2025, 1, 6, 19, 6, 55, 36727, tzinfo=datetime.timezone.utc), part_kind='user-prompt')], kind='request'), ModelResponse(parts=[TextPart(content='\"Hello, World!\" originates from the 1972 programming language tutorial for C by Brian Kernighan and Dennis Ritchie.', part_kind='text')], timestamp=datetime.datetime(2025, 1, 6, 19, 6, 55, tzinfo=datetime.timezone.utc), kind='response')], _new_message_index=0, data='\"Hello, World!\" originates from the 1972 programming language tutorial for C by Brian Kernighan and Dennis Ritchie.', _result_tool_name=None, _usage=Usage(requests=1, request_tokens=30, response_tokens=27, total_tokens=57, details={'accepted_prediction_tokens': 0, 'audio_tokens': 0, 'reasoning_tokens': 0, 'rejected_prediction_tokens': 0, 'cached_tokens': 0}))\n"
     ]
    },
    {
     "name": "stderr",
     "output_type": "stream",
     "text": [
      "/var/folders/p8/wg2_6tz10x111q372jxw6ghc0000gn/T/ipykernel_92057/779684837.py:1: RuntimeWarning: coroutine 'Agent.run' was never awaited\n",
      "  result = agent.run_sync(\"Where does 'hello world' come from ?\")\n",
      "RuntimeWarning: Enable tracemalloc to get the object allocation traceback\n"
     ]
    }
   ],
   "source": [
    "result = agent.run_sync(\"Where does 'hello world' come from ?\")"
   ]
  },
  {
   "cell_type": "code",
   "execution_count": 9,
   "metadata": {},
   "outputs": [
    {
     "data": {
      "text/plain": [
       "'\"Hello, World!\" originates from the 1972 programming language tutorial for C by Brian Kernighan and Dennis Ritchie.'"
      ]
     },
     "execution_count": 9,
     "metadata": {},
     "output_type": "execute_result"
    }
   ],
   "source": [
    "result.data"
   ]
  },
  {
   "cell_type": "markdown",
   "metadata": {},
   "source": [
    "# Basic structured output"
   ]
  },
  {
   "cell_type": "code",
   "execution_count": 10,
   "metadata": {},
   "outputs": [
    {
     "name": "stdout",
     "output_type": "stream",
     "text": [
      "Using model: openai:gpt-4o-mini\n",
      "city='Chicago' country='USA' reason='It is known as the Windy City due to its weather and the political climate of the late 19th century.' famous_person_from_city='Michael Jordan'\n"
     ]
    }
   ],
   "source": [
    "from typing import cast\n",
    "from pydantic import BaseModel\n",
    "from pydantic_ai import Agent\n",
    "from pydantic_ai.models import KnownModelName\n",
    "\n",
    "class MyModel(BaseModel):\n",
    "    city: str\n",
    "    country: str\n",
    "    reason: str\n",
    "    famous_person_from_city: str\n",
    "\n",
    "model = 'openai:gpt-4o-mini'\n",
    "print(f\"Using model: {model}\")\n",
    "\n",
    "agent = Agent(model,\n",
    "              result_type=MyModel)\n",
    "result = agent.run_sync(\"The windy city in the US of A.\")\n",
    "print(result.data)"
   ]
  },
  {
   "cell_type": "code",
   "execution_count": 19,
   "metadata": {},
   "outputs": [
    {
     "data": {
      "text/plain": [
       "MyModel(city='Chicago', country='USA', reason='It is known as the Windy City due to its weather and the political climate of the late 19th century.', famous_person_from_city='Michael Jordan')"
      ]
     },
     "execution_count": 19,
     "metadata": {},
     "output_type": "execute_result"
    }
   ],
   "source": [
    "result.data"
   ]
  },
  {
   "cell_type": "code",
   "execution_count": 26,
   "metadata": {},
   "outputs": [
    {
     "name": "stdout",
     "output_type": "stream",
     "text": [
      "Usage(requests=1, request_tokens=86, response_tokens=122, total_tokens=208, details={'accepted_prediction_tokens': 0, 'audio_tokens': 0, 'reasoning_tokens': 0, 'rejected_prediction_tokens': 0, 'cached_tokens': 0})\n"
     ]
    }
   ],
   "source": [
    "print(result.usage())\n"
   ]
  },
  {
   "cell_type": "markdown",
   "metadata": {},
   "source": [
    "# Chat APP"
   ]
  },
  {
   "cell_type": "code",
   "execution_count": 27,
   "metadata": {},
   "outputs": [
    {
     "name": "stdout",
     "output_type": "stream",
     "text": [
      "('The joke \"Why don\\'t skeletons fight each other? Because they don\\'t have '\n",
      " 'the guts!\" is a classic play on words, often classified as a pun. Puns are a '\n",
      " 'form of humor that exploits multiple meanings of a word or similar-sounding '\n",
      " 'words for comic effect. \\n'\n",
      " '\\n'\n",
      " 'This specific joke likely reflects a broader tradition of Halloween-themed '\n",
      " 'humor, as skeletons are common symbols of Halloween and are often featured '\n",
      " 'in jokes and stories around that holiday. The joke itself is simple and '\n",
      " 'child-friendly, making it popular for use among children and in casual '\n",
      " 'conversation around Halloween.\\n'\n",
      " '\\n'\n",
      " 'While it’s difficult to pinpoint an exact origin, puns and jokes about '\n",
      " 'skeletons have been around for a long time, encouraging a lighthearted '\n",
      " 'approach to a subject that is often eerie or macabre, like death. It '\n",
      " 'represents the comedic approach of using playful language to make light of '\n",
      " 'serious subjects.')\n"
     ]
    }
   ],
   "source": [
    "from pydantic_ai import Agent\n",
    "from pprint import pprint\n",
    "\n",
    "agent = Agent('openai:gpt-4o-mini', system_prompt='Be a helpful assistant.')\n",
    "\n",
    "result = agent.run_sync('Tell me a joke.')\n",
    "result2 = agent.run_sync(\"Explain it please\", message_history=result.new_messages())\n",
    "result3 = agent.run_sync('Where does the joke come from?', message_history=result2.new_messages())\n",
    "\n",
    "pprint(result3.data)\n"
   ]
  },
  {
   "cell_type": "code",
   "execution_count": 28,
   "metadata": {},
   "outputs": [
    {
     "name": "stdout",
     "output_type": "stream",
     "text": [
      "b'[{\"parts\":[{\"content\":\"Explain it please\",\"timestamp\":\"2025-01-06T19:24:37.460242Z\",\"part_kind\":\"user-prompt\"}],\"kind\":\"request\"},{\"parts\":[{\"content\":\"Sure! The joke plays on two meanings of the phrase \\\\\"don\\'t have the guts.\\\\\"\\\\n\\\\n1. **Literal Meaning**: Skeletons are made up of bones and do not have any internal organs, including guts (the intestines and other organs).\\\\n\\\\n2. **Figurative Meaning**: The phrase \\\\\"to have the guts\\\\\" colloquially means having the courage or bravery to do something difficult or confrontational. So, when the joke says that skeletons don\\xe2\\x80\\x99t fight because they \\xe2\\x80\\x9cdon\\xe2\\x80\\x99t have the guts,\\xe2\\x80\\x9d it\\xe2\\x80\\x99s a humorous way of saying they lack both the physical organs and the emotional courage to fight.\\\\n\\\\nThe humor stems from the playful use of language and the visual of a skeleton, which is inherently not capable of action in the way living beings are.\",\"part_kind\":\"text\"}],\"timestamp\":\"2025-01-06T19:24:38Z\",\"kind\":\"response\"},{\"parts\":[{\"content\":\"Where does the joke come from?\",\"timestamp\":\"2025-01-06T19:24:41.219704Z\",\"part_kind\":\"user-prompt\"}],\"kind\":\"request\"},{\"parts\":[{\"content\":\"The joke \\\\\"Why don\\'t skeletons fight each other? Because they don\\'t have the guts!\\\\\" is a classic play on words, often classified as a pun. Puns are a form of humor that exploits multiple meanings of a word or similar-sounding words for comic effect. \\\\n\\\\nThis specific joke likely reflects a broader tradition of Halloween-themed humor, as skeletons are common symbols of Halloween and are often featured in jokes and stories around that holiday. The joke itself is simple and child-friendly, making it popular for use among children and in casual conversation around Halloween.\\\\n\\\\nWhile it\\xe2\\x80\\x99s difficult to pinpoint an exact origin, puns and jokes about skeletons have been around for a long time, encouraging a lighthearted approach to a subject that is often eerie or macabre, like death. It represents the comedic approach of using playful language to make light of serious subjects.\",\"part_kind\":\"text\"}],\"timestamp\":\"2025-01-06T19:24:41Z\",\"kind\":\"response\"}]'\n"
     ]
    },
    {
     "name": "stderr",
     "output_type": "stream",
     "text": [
      "<frozen abc>:123: RuntimeWarning: coroutine 'Agent.run' was never awaited\n",
      "RuntimeWarning: Enable tracemalloc to get the object allocation traceback\n"
     ]
    }
   ],
   "source": [
    "print(result3.all_messages_json())"
   ]
  },
  {
   "cell_type": "code",
   "execution_count": null,
   "metadata": {},
   "outputs": [],
   "source": []
  },
  {
   "cell_type": "code",
   "execution_count": null,
   "metadata": {},
   "outputs": [],
   "source": []
  },
  {
   "cell_type": "code",
   "execution_count": null,
   "metadata": {},
   "outputs": [],
   "source": []
  }
 ],
 "metadata": {
  "kernelspec": {
   "display_name": "llm",
   "language": "python",
   "name": "python3"
  },
  "language_info": {
   "codemirror_mode": {
    "name": "ipython",
    "version": 3
   },
   "file_extension": ".py",
   "mimetype": "text/x-python",
   "name": "python",
   "nbconvert_exporter": "python",
   "pygments_lexer": "ipython3",
   "version": "3.11.11"
  }
 },
 "nbformat": 4,
 "nbformat_minor": 2
}
