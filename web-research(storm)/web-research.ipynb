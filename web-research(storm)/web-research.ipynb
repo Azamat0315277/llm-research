{
 "cells": [
  {
   "cell_type": "markdown",
   "metadata": {},
   "source": [
    "# Web Research (STORM)"
   ]
  },
  {
   "cell_type": "markdown",
   "metadata": {},
   "source": [
    "`STORM` is a research assistant designed by Shao, et. al that extends the idea of \"outline-driven RAG\" for richer article generation.  \n",
    "STORM is designed to generate Wikipedia-style ariticles on a user-provided topic. It applies two main insights to produce more organized and comprehensive articles:"
   ]
  },
  {
   "cell_type": "code",
   "execution_count": 3,
   "metadata": {},
   "outputs": [
    {
     "data": {
      "text/plain": [
       "True"
      ]
     },
     "execution_count": 3,
     "metadata": {},
     "output_type": "execute_result"
    }
   ],
   "source": [
    "import os\n",
    "from dotenv import load_dotenv\n",
    "\n",
    "load_dotenv()\n",
    "\n"
   ]
  },
  {
   "cell_type": "code",
   "execution_count": 4,
   "metadata": {},
   "outputs": [],
   "source": [
    "%%capture --no-stderr\n",
    "%pip install -U langchain_community langchain_openai langchain_fireworks langgraph wikipedia duckduckgo-search tavily-python"
   ]
  },
  {
   "cell_type": "markdown",
   "metadata": {},
   "source": [
    "# Select LLM model"
   ]
  },
  {
   "cell_type": "code",
   "execution_count": 5,
   "metadata": {},
   "outputs": [],
   "source": [
    "from langchain_openai import ChatOpenAI\n",
    "\n",
    "fast_llm = ChatOpenAI(model_name=\"gpt-4o-mini\")\n",
    "long_context_llm = ChatOpenAI(model_name=\"gpt-4o\")\n"
   ]
  },
  {
   "cell_type": "code",
   "execution_count": 6,
   "metadata": {},
   "outputs": [],
   "source": [
    "from typing import List,Optional\n",
    "from langchain_core.prompts import ChatPromptTemplate\n",
    "from pydantic import BaseModel, Field\n",
    "\n",
    "direct_gen_outline_prompt = ChatPromptTemplate.from_messages(\n",
    "    [\n",
    "        \n",
    "     (\n",
    "        \"system\",\n",
    "        \"You are a Wikipedia writer. Write an outline for a Wikipedia page about a user-provided topic. Be comprehensive and specific.\",\n",
    "     ),\n",
    "     (\"user\", \"{topic}\"),   \n",
    "    ]\n",
    ")\n",
    "class Subsection(BaseModel):\n",
    "    subsection_title: str = Field(..., title='Title of the subsection')\n",
    "    description: str = Field(..., title=\"Content of the subsection\")\n",
    "\n",
    "    @property\n",
    "    def as_str(self) -> str:\n",
    "        return f'###{self.subsection_title}\\n\\n{self.description}'.strip()\n",
    "    \n",
    "class Section(BaseModel):\n",
    "    section_title: str = Field(..., title='Title of the section')\n",
    "    description: str = Field(..., title=\"Content of the section\")\n",
    "    subsections: Optional[List[Subsection]] = Field(\n",
    "        default=None,\n",
    "        title='Titles and descriptions for each subsection of the Wikipeida page.'\n",
    "    )\n",
    "\n",
    "    @property\n",
    "    def as_str(self) -> str:\n",
    "        subsections = \"\\n\\n\".join(\n",
    "            f\"###{subsection.subsection_title}\\n\\n{subsection.description}\"\n",
    "            for subsection in self.subsections or []\n",
    "        )\n",
    "        return f\"##{self.section_title}\\n\\n{self.description}\\n\\n{subsections}\".strip()\n",
    "    \n",
    "class Outline(BaseModel):\n",
    "    page_title: str = Field(..., title='Title of the Wikipedia page')\n",
    "    sections: List[Section] = Field(\n",
    "        default_factory=list,\n",
    "        title='Titles and descriptions for each section of the Wikipedia page.',\n",
    "    )\n",
    "    @property\n",
    "    def as_str(self) -> str:\n",
    "        sections = \"\\n\\n\".join(section.as_str for section in self.sections)\n",
    "        return f\"# {self.page_title}\\n\\n{sections}\".strip()\n",
    "    \n",
    "generate_outline_direct = direct_gen_outline_prompt | fast_llm.with_structured_output(Outline)"
   ]
  },
  {
   "cell_type": "code",
   "execution_count": 9,
   "metadata": {},
   "outputs": [
    {
     "name": "stdout",
     "output_type": "stream",
     "text": [
      "# Creating Large Language Models for the Kazakh Language\n",
      "\n",
      "##Introduction\n",
      "\n",
      "An overview of large language models (LLMs) and their significance in natural language processing, with a specific focus on the Kazakh language.\n",
      "\n",
      "###Definition of Large Language Models\n",
      "\n",
      "Explains what LLMs are, their architecture, and their capabilities.\n",
      "\n",
      "###Importance of Kazakh Language Processing\n",
      "\n",
      "Discusses the need for Kazakh language LLMs for preserving culture, enhancing communication, and supporting local applications.\n",
      "\n",
      "##Development of Kazakh LLMs\n",
      "\n",
      "Overview of the methodologies and technologies involved in creating LLMs for the Kazakh language.\n",
      "\n",
      "###Data Collection\n",
      "\n",
      "Details the sources and methods used to gather text data in Kazakh, including public datasets, web scraping, and collaborations.\n",
      "\n",
      "###Preprocessing Text Data\n",
      "\n",
      "Explains techniques used to clean and prepare the Kazakh text data for training, including tokenization and normalization.\n",
      "\n",
      "###Model Training Techniques\n",
      "\n",
      "Describes the machine learning frameworks and algorithms commonly used for training LLMs, including transfer learning and fine-tuning.\n",
      "\n",
      "##Challenges in Creating Kazakh LLMs\n",
      "\n",
      "Discusses the specific challenges faced in the development process, including limited resources and linguistic complexities.\n",
      "\n",
      "###Data Scarcity\n",
      "\n",
      "Examines the lack of substantial Kazakh text corpora available for training LLMs.\n",
      "\n",
      "###Linguistic Features of Kazakh\n",
      "\n",
      "Explains unique features of the Kazakh language that present challenges in LLM modeling, such as agglutination and syntax.\n",
      "\n",
      "###Technological Limitations\n",
      "\n",
      "Discusses the need for computational resources and technical expertise to develop effective LLMs.\n",
      "\n",
      "##Applications of Kazakh LLMs\n",
      "\n",
      "Explores various applications for which Kazakh LLMs can be utilized, enhancing user experiences across different sectors.\n",
      "\n",
      "###Education Tools\n",
      "\n",
      "Details how Kazakh LLMs can support language learning and provide educational resources.\n",
      "\n",
      "###Natural Language Processing Tasks\n",
      "\n",
      "Reviews the ability of Kazakh LLMs to perform various NLP tasks like translation, summarization, and sentiment analysis.\n",
      "\n",
      "###Cultural Preservation\n",
      "\n",
      "Discusses how LLMs can aid in documenting and promoting Kazakh culture and literature.\n",
      "\n",
      "##Future Directions\n",
      "\n",
      "Analyzes potential advancements and future research directions for the development of Kazakh LLMs.\n",
      "\n",
      "###Enhancing Model Performance\n",
      "\n",
      "Suggests methodologies to improve the accuracy and fluency of Kazakh LLMs through advanced techniques.\n",
      "\n",
      "###Community and Collaboration\n",
      "\n",
      "Highlights the importance of community engagement and interdisciplinary collaboration for ongoing development.\n",
      "\n",
      "###Scaling for Broader Usage\n",
      "\n",
      "Explores ways to make Kazakh LLMs accessible to wider audiences, including deployment strategies and user interfaces.\n",
      "\n",
      "##Conclusion\n",
      "\n",
      "Summarizes the importance of developing Kazakh LLMs and the impact they can have on the direction of language technology.\n",
      "\n",
      "##References\n",
      "\n",
      "A comprehensive list of academic papers, articles, and resources cited throughout the Wikipedia page.\n",
      "\n",
      "##External Links\n",
      "\n",
      "Links to relevant resources, organizations, and projects related to Kazakh language processing and LLM development.\n"
     ]
    }
   ],
   "source": [
    "example_topic = \"Creating LLM which can generate Kazakh language\"\n",
    "\n",
    "initial_outline = generate_outline_direct.invoke({\"topic\": example_topic})\n",
    "print(initial_outline.as_str)"
   ]
  },
  {
   "cell_type": "markdown",
   "metadata": {},
   "source": [
    "# Expand Tpoics"
   ]
  },
  {
   "cell_type": "code",
   "execution_count": 10,
   "metadata": {},
   "outputs": [],
   "source": [
    "gen_related_topics_prompt = ChatPromptTemplate.from_template(\n",
    "    \"\"\"I'm writing a Wikipedia page for a topic mentioned below. \n",
    "    Please identify and recommend some Wikipedia pages on closely related subjects. \n",
    "    I'm looking for examples that provide insights into interesting aspects commonly associated with this topic, \n",
    "    or examples that help me understand the typical content and structure included in Wikipedia pages for similar topics.\n",
    "    Please list the as many subjects and urls as you can.\n",
    "    Topic of interest: {topic}\n",
    "\"\"\"\n",
    ")\n",
    "\n",
    "class RelatedSubjects(BaseModel):\n",
    "    topics: List[str] = Field(\n",
    "        description=\"Comprehensive list of related subjects as background research.\",\n",
    "    )\n",
    "\n",
    "expand_chain = gen_related_topics_prompt | fast_llm.with_structured_output(RelatedSubjects)"
   ]
  },
  {
   "cell_type": "code",
   "execution_count": 11,
   "metadata": {},
   "outputs": [],
   "source": [
    "related_subjects = await expand_chain.ainvoke({\"topic\": example_topic})\n"
   ]
  },
  {
   "cell_type": "code",
   "execution_count": 13,
   "metadata": {},
   "outputs": [
    {
     "data": {
      "text/plain": [
       "['Language Modeling',\n",
       " 'Kazakh Language',\n",
       " 'Natural Language Processing',\n",
       " 'Large Language Models',\n",
       " 'Machine Learning',\n",
       " 'Artificial Intelligence',\n",
       " 'Linguistic Resources for Lesser-Known Languages',\n",
       " 'Text Generation in Natural Language Processing',\n",
       " 'GPT (Generative Pre-trained Transformer)',\n",
       " 'Multilingual Models',\n",
       " 'Low-resource Languages',\n",
       " 'Computational Linguistics',\n",
       " 'Speech Recognition in Kazakh',\n",
       " 'Ethical AI in Language Processing',\n",
       " 'Cultural Significance of the Kazakh Language']"
      ]
     },
     "execution_count": 13,
     "metadata": {},
     "output_type": "execute_result"
    }
   ],
   "source": [
    "related_subjects.topics"
   ]
  },
  {
   "cell_type": "markdown",
   "metadata": {},
   "source": [
    "# Generate Perspectives"
   ]
  },
  {
   "cell_type": "code",
   "execution_count": 14,
   "metadata": {},
   "outputs": [],
   "source": [
    "class Editor(BaseModel):\n",
    "    affilation: str = Field(\n",
    "        description=\"Primary affilation of the editor.\",\n",
    "    )\n",
    "    name: str = Field(\n",
    "        description=\"Name of the editor.\", pattern=r\"^[a-zA-Z0-9_-]{1, 64}$\"\n",
    "    )\n",
    "    role: str = Field(\n",
    "        description=\"Role of the editor in the context of the topic.\",\n",
    "    )\n",
    "    description: str = Field(\n",
    "        description=\"Description of the editor's focus, concerns, and motives.\",\n",
    "    )\n",
    "\n",
    "    @property\n",
    "    def persona(self) -> str:\n",
    "        return f\"Name: {self.name}\\nRole: {self.role}\\nAffilation: {self.affilation}\\nDescription: {self.description}\\n\"\n",
    "\n",
    "class Perspectives(BaseModel):\n",
    "    editors: List[Editor]= Field(\n",
    "        description=\"Comprehensive list of editors with their roles and affiliations.\",\n",
    "        # Add a pydantic validation/restriction to be at most M editors\n",
    "    )\n",
    "gen_perspectives_prompt = ChatPromptTemplate.from_messages(\n",
    "    [\n",
    "        (\n",
    "            \"system\",\n",
    "            \"\"\"You need to select a diverse (and distinct) group of Wikipedia editors who will work together to create a comprehensive article on the topic.\\ \n",
    "            Each of them represents a different perspective, role, or affiliation related to this topic.\\\n",
    "            You can use other Wikipedia pages of related topics for inspiration. For each editor, add a description of what they will focus on.\\\n",
    "            Wiki page outlines of related topics for inspiration:\n",
    "    {examples}\"\"\",\n",
    "        ),\n",
    "        (\"user\", \"Topic of interest: {topic}\")\n",
    "    ]\n",
    ")\n",
    "\n",
    "gen_perspectives_chain = gen_perspectives_prompt | ChatOpenAI(model_name=\"gpt-4o-mini\").with_structured_output(Perspectives)\n",
    "\n"
   ]
  }
 ],
 "metadata": {
  "kernelspec": {
   "display_name": "llm",
   "language": "python",
   "name": "python3"
  },
  "language_info": {
   "codemirror_mode": {
    "name": "ipython",
    "version": 3
   },
   "file_extension": ".py",
   "mimetype": "text/x-python",
   "name": "python",
   "nbconvert_exporter": "python",
   "pygments_lexer": "ipython3",
   "version": "3.11.11"
  }
 },
 "nbformat": 4,
 "nbformat_minor": 2
}
