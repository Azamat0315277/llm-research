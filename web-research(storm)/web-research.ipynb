{
 "cells": [
  {
   "cell_type": "markdown",
   "metadata": {},
   "source": [
    "# Web Research (STORM)"
   ]
  },
  {
   "cell_type": "markdown",
   "metadata": {},
   "source": [
    "`STORM` is a research assistant designed by Shao, et. al that extends the idea of \"outline-driven RAG\" for richer article generation.  \n",
    "STORM is designed to generate Wikipedia-style ariticles on a user-provided topic. It applies two main insights to produce more organized and comprehensive articles:"
   ]
  },
  {
   "cell_type": "code",
   "execution_count": 1,
   "metadata": {},
   "outputs": [
    {
     "data": {
      "text/plain": [
       "True"
      ]
     },
     "execution_count": 1,
     "metadata": {},
     "output_type": "execute_result"
    }
   ],
   "source": [
    "import os\n",
    "from dotenv import load_dotenv\n",
    "\n",
    "load_dotenv()"
   ]
  },
  {
   "cell_type": "code",
   "execution_count": 4,
   "metadata": {},
   "outputs": [],
   "source": [
    "%%capture --no-stderr\n",
    "%pip install -U langchain_community langchain_openai langchain_fireworks langgraph wikipedia duckduckgo-search tavily-python"
   ]
  },
  {
   "cell_type": "markdown",
   "metadata": {},
   "source": [
    "# Select LLM model"
   ]
  },
  {
   "cell_type": "code",
   "execution_count": 2,
   "metadata": {},
   "outputs": [],
   "source": [
    "from langchain_openai import ChatOpenAI\n",
    "\n",
    "fast_llm = ChatOpenAI(model_name=\"gpt-4o-mini\")\n",
    "long_context_llm = ChatOpenAI(model_name=\"gpt-4o\")\n"
   ]
  },
  {
   "cell_type": "code",
   "execution_count": 3,
   "metadata": {},
   "outputs": [],
   "source": [
    "from typing import List,Optional\n",
    "from langchain_core.prompts import ChatPromptTemplate\n",
    "from pydantic import BaseModel, Field\n",
    "\n",
    "direct_gen_outline_prompt = ChatPromptTemplate.from_messages(\n",
    "    [\n",
    "        \n",
    "     (\n",
    "        \"system\",\n",
    "        \"You are a Wikipedia writer. Write an outline for a Wikipedia page about a user-provided topic. Be comprehensive and specific.\",\n",
    "     ),\n",
    "     (\"user\", \"{topic}\"),   \n",
    "    ]\n",
    ")\n",
    "class Subsection(BaseModel):\n",
    "    subsection_title: str = Field(..., title='Title of the subsection')\n",
    "    description: str = Field(..., title=\"Content of the subsection\")\n",
    "\n",
    "    @property\n",
    "    def as_str(self) -> str:\n",
    "        return f'###{self.subsection_title}\\n\\n{self.description}'.strip()\n",
    "    \n",
    "class Section(BaseModel):\n",
    "    section_title: str = Field(..., title='Title of the section')\n",
    "    description: str = Field(..., title=\"Content of the section\")\n",
    "    subsections: Optional[List[Subsection]] = Field(\n",
    "        default=None,\n",
    "        title='Titles and descriptions for each subsection of the Wikipeida page.'\n",
    "    )\n",
    "\n",
    "    @property\n",
    "    def as_str(self) -> str:\n",
    "        subsections = \"\\n\\n\".join(\n",
    "            f\"###{subsection.subsection_title}\\n\\n{subsection.description}\"\n",
    "            for subsection in self.subsections or []\n",
    "        )\n",
    "        return f\"##{self.section_title}\\n\\n{self.description}\\n\\n{subsections}\".strip()\n",
    "    \n",
    "class Outline(BaseModel):\n",
    "    page_title: str = Field(..., title='Title of the Wikipedia page')\n",
    "    sections: List[Section] = Field(\n",
    "        default_factory=list,\n",
    "        title='Titles and descriptions for each section of the Wikipedia page.',\n",
    "    )\n",
    "    @property\n",
    "    def as_str(self) -> str:\n",
    "        sections = \"\\n\\n\".join(section.as_str for section in self.sections)\n",
    "        return f\"# {self.page_title}\\n\\n{sections}\".strip()\n",
    "    \n",
    "generate_outline_direct = direct_gen_outline_prompt | fast_llm.with_structured_output(Outline)"
   ]
  },
  {
   "cell_type": "code",
   "execution_count": 4,
   "metadata": {},
   "outputs": [
    {
     "name": "stdout",
     "output_type": "stream",
     "text": [
      "# Kazakh Language Large Language Model (LLM) Development\n",
      "\n",
      "##Introduction\n",
      "\n",
      "An overview of what Large Language Models (LLMs) are and their significance in language processing. This section will introduce the concept of developing LLMs specifically tailored for the Kazakh language, addressing the need for better language representation and processing in AI.\n",
      "\n",
      "###What is a Large Language Model?\n",
      "\n",
      "Definition and characteristics of LLMs, with examples of popular models like GPT, BERT, and others.\n",
      "\n",
      "###Importance of Kazakh Language Processing\n",
      "\n",
      "Discuss the growing need for AI tools in minority languages, specifically the Kazakh language, in education, government, and cultural preservation.\n",
      "\n",
      "##Challenges in Kazakh Language LLM Development\n",
      "\n",
      "A detailed exploration of the unique challenges faced when creating an LLM for the Kazakh language.\n",
      "\n",
      "###Linguistic Diversity and Complexity\n",
      "\n",
      "Overview of the grammatical structure, vocabulary, and dialects of Kazakh that complicate LLM training.\n",
      "\n",
      "###Data Availability and Quality\n",
      "\n",
      "Description of the scarcity of high-quality datasets in Kazakh, which poses difficulties for training effective LLMs.\n",
      "\n",
      "###Technological Limitations\n",
      "\n",
      "Discussion on technological constraints, including computational resources necessary for training expansive LLMs.\n",
      "\n",
      "##Data Collection and Preparation\n",
      "\n",
      "Methods and strategies used for gathering and preparing the datasets required for training Kazakh LLMs.\n",
      "\n",
      "###Corpus Development\n",
      "\n",
      "Steps involved in assembling a corpus, including text scraping, cleaning, and validation processes.\n",
      "\n",
      "###Annotation Practices\n",
      "\n",
      "Techniques used to annotate data in terms of grammar, context, and relevance to improve model training.\n",
      "\n",
      "###Collaboration with Local Linguists\n",
      "\n",
      "Importance of partnering with Kazakh linguists to ensure linguistic accuracy and cultural relevance.\n",
      "\n",
      "##Training Approaches\n",
      "\n",
      "Explore the methodologies employed to train Kazakh-specific LLMs.\n",
      "\n",
      "###Model Architecture\n",
      "\n",
      "Discussion on the choice of model architecture, leveraging existing frameworks (e.g., transformer-based models) to suit Kazakh.\n",
      "\n",
      "###Transfer Learning\n",
      "\n",
      "Utilization of transfer learning techniques to enhance the model's performance using data from related languages.\n",
      "\n",
      "###Evaluation Metrics\n",
      "\n",
      "Criteria and benchmarks for evaluating the performance of Kazakh LLMs.\n",
      "\n",
      "##Applications of Kazakh Language LLMs\n",
      "\n",
      "An investigation into the potential applications of Kazakh LLMs across various sectors.\n",
      "\n",
      "###Educational Tools\n",
      "\n",
      "The use of LLMs in developing language learning resources and tools that facilitate education in Kazakh.\n",
      "\n",
      "###Content Creation\n",
      "\n",
      "How LLMs can aid in generating articles, essays, and creative works in Kazakh.\n",
      "\n",
      "###Chatbots and Customer Service\n",
      "\n",
      "Potential applications in building chatbots for customer support and services in the Kazakh language.\n",
      "\n",
      "##Future Directions\n",
      "\n",
      "Speculation and plans regarding the future of Kazakh language LLMs and ongoing research.\n",
      "\n",
      "###Continued Research and Development\n",
      "\n",
      "The importance of ongoing development and research initiatives to improve Kazakh LLMs.\n",
      "\n",
      "###Integration with Other Technologies\n",
      "\n",
      "Exploring how Kazakh LLMs can interface with other AI technologies like speech recognition and translation services.\n",
      "\n",
      "###Community Engagement and Feedback\n",
      "\n",
      "The role of community engagement in the evolution and refinement of Kazakh LLM applications.\n"
     ]
    }
   ],
   "source": [
    "example_topic = \"Creating LLM which can generate answers in Kazakh language\"\n",
    "\n",
    "initial_outline = generate_outline_direct.invoke({\"topic\": example_topic})\n",
    "print(initial_outline.as_str)"
   ]
  },
  {
   "cell_type": "markdown",
   "metadata": {},
   "source": [
    "# Expand Topics"
   ]
  },
  {
   "cell_type": "code",
   "execution_count": 5,
   "metadata": {},
   "outputs": [],
   "source": [
    "gen_related_topics_prompt = ChatPromptTemplate.from_template(\n",
    "    \"\"\"I'm writing a Wikipedia page for a topic mentioned below. \\\n",
    "    Please identify and recommend some Wikipedia pages on closely related subjects. \\\n",
    "    I'm looking for examples that provide insights into interesting aspects commonly associated with this topic, \\\n",
    "    or examples that help me understand the typical content and structure included in Wikipedia pages for similar topics. \\\n",
    "    Please list the as many subjects and urls as you can.   \\\n",
    "    Topic of interest: {topic}\n",
    "\"\"\"\n",
    ")\n",
    "\n",
    "class RelatedSubjects(BaseModel):\n",
    "    topics: List[str] = Field(\n",
    "        description=\"Comprehensive list of related subjects as background research.\",\n",
    "    )\n",
    "\n",
    "expand_chain = gen_related_topics_prompt | fast_llm.with_structured_output(RelatedSubjects)"
   ]
  },
  {
   "cell_type": "code",
   "execution_count": 6,
   "metadata": {},
   "outputs": [],
   "source": [
    "related_subjects = await expand_chain.ainvoke({\"topic\": example_topic})\n"
   ]
  },
  {
   "cell_type": "markdown",
   "metadata": {},
   "source": [
    "# Generate Perspectives"
   ]
  },
  {
   "cell_type": "code",
   "execution_count": 7,
   "metadata": {},
   "outputs": [],
   "source": [
    "class Editor(BaseModel):\n",
    "    affilation: str = Field(\n",
    "        description=\"Primary affilation of the editor.\",\n",
    "    )\n",
    "    name: str = Field(\n",
    "        description=\"Name of the editor.\",\n",
    "    )\n",
    "    role: str = Field(\n",
    "        description=\"Role of the editor in the context of the topic.\",\n",
    "    )\n",
    "    description: str = Field(\n",
    "        description=\"Description of the editor's focus, concerns, and motives.\",\n",
    "    )\n",
    "\n",
    "    @property\n",
    "    def persona(self) -> str:\n",
    "        return f\"Name: {self.name}\\nRole: {self.role}\\nAffilation: {self.affilation}\\nDescription: {self.description}\\n\"\n",
    "\n",
    "class Perspectives(BaseModel):\n",
    "    editors: List[Editor]= Field(\n",
    "        description=\"Comprehensive list of editors with their roles and affiliations.\",\n",
    "        # Add a pydantic validation/restriction to be at most M editors\n",
    "    )\n",
    "gen_perspectives_prompt = ChatPromptTemplate.from_messages(\n",
    "    [\n",
    "        (\n",
    "            \"system\",\n",
    "            \"\"\"You need to select a diverse (and distinct) group of Wikipedia editors who will work together to create a comprehensive article on the topic.\\\n",
    "                Each of them represents a different perspective, role, or affiliation related to this topic.\\\n",
    "            You can use other Wikipedia pages of related topics for inspiration. For each editor, add a description of what they will focus on.\\\n",
    "            Wiki page outlines of related topics for inspiration: {examples}\"\"\",\n",
    "        ),\n",
    "        (\"user\", \"Topic of interest: {topic}\")\n",
    "    ]\n",
    ")\n",
    "\n",
    "gen_perspectives_chain = gen_perspectives_prompt | ChatOpenAI(model_name=\"gpt-4o-mini\").with_structured_output(Perspectives)\n",
    "\n"
   ]
  },
  {
   "cell_type": "code",
   "execution_count": 8,
   "metadata": {},
   "outputs": [],
   "source": [
    "from langchain_community.retrievers import WikipediaRetriever\n",
    "from langchain_core.runnables import RunnableLambda\n",
    "from langchain_core.runnables import chain as as_runnable\n",
    "\n",
    "wikipedia_retriever = WikipediaRetriever(load_all_available_meta=True, top_k_results=1)\n",
    "\n",
    "def format_doc(doc, max_length=1000):\n",
    "    related = \"- \".join(doc.metadata['categories'])\n",
    "    return f\"### {doc.metadata['title']}\\n\\nSummary: {doc.page_content}\\n\\nRelated\\n{related}\"[:max_length]\n",
    "\n",
    "def format_docs(docs):\n",
    "    return \"\\n\\n\".join(format_doc(doc) for doc in docs)\n",
    "\n",
    "@as_runnable\n",
    "async def survey_subjects(topic: str):\n",
    "    related_subjects = await expand_chain.ainvoke({\"topic\": topic})\n",
    "    retrieved_docs = await wikipedia_retriever.abatch(\n",
    "        related_subjects.topics, return_exceptions=True\n",
    "    )\n",
    "    all_docs = []\n",
    "    for docs in retrieved_docs:\n",
    "        if isinstance(docs, BaseException):\n",
    "            continue\n",
    "        all_docs.extend(docs)\n",
    "    formatted = format_docs(all_docs)\n",
    "    return await gen_perspectives_chain.ainvoke({\"examples\": formatted, \"topic\": topic})\n"
   ]
  },
  {
   "cell_type": "code",
   "execution_count": 9,
   "metadata": {},
   "outputs": [
    {
     "name": "stderr",
     "output_type": "stream",
     "text": [
      "/var/folders/p8/wg2_6tz10x111q372jxw6ghc0000gn/T/ipykernel_66443/35571063.py:2: PydanticDeprecatedSince20: The `dict` method is deprecated; use `model_dump` instead. Deprecated in Pydantic V2.0 to be removed in V3.0. See Pydantic V2 Migration Guide at https://errors.pydantic.dev/2.10/migration/\n",
      "  perspectives.dict()\n"
     ]
    },
    {
     "data": {
      "text/plain": [
       "{'editors': [{'affilation': 'Kazakh Linguistic Institute',\n",
       "   'name': 'Ayman Kairbekova',\n",
       "   'role': 'Linguist',\n",
       "   'description': 'Focuses on the linguistic properties of the Kazakh language, including grammatical structure, colloquialisms, and regional dialects. She will ensure that the generated content adheres to the rules of Kazakh syntax and vocabulary, and that it reflects cultural nuances.'},\n",
       "  {'affilation': 'OpenAI',\n",
       "   'name': 'Dr. Askar Jonbekov',\n",
       "   'role': 'AI Researcher',\n",
       "   'description': 'Works on applying large language models in multilingual contexts. His expertise lies in adapting LLMs for underrepresented languages like Kazakh. He will emphasize the methodology of fine-tuning existing LLMs to capture Kazakh language features.'},\n",
       "  {'affilation': 'University of Almaty',\n",
       "   'name': 'Bota Suleimenova',\n",
       "   'role': 'Computational Linguist',\n",
       "   'description': 'Her research specializes in developing language resources for Kazakh, such as corpora and lexical databases. She will contribute to the technical aspects of building an LLM by sourcing quality datasets and ensuring linguistic accuracy.'},\n",
       "  {'affilation': 'Kazakh Language Department of the Culture Ministry',\n",
       "   'name': 'Zhanar Nauryzbaeva',\n",
       "   'role': 'Cultural Advisor',\n",
       "   'description': \"Brings in knowledge about the cultural significance and historical context of the Kazakh language. She will advise on the importance of including cultural references and context in the LLM's training data.\"},\n",
       "  {'affilation': 'Nazarbayev University',\n",
       "   'name': 'Erbol Mukanov',\n",
       "   'role': 'Ethicist in AI',\n",
       "   'description': 'Focuses on the ethical implications of AI technologies, particularly around language representation. His role will be to ensure that the LLM respects and promotes Kazakh linguistic heritage and does not propagate biases or misrepresentations.'},\n",
       "  {'affilation': 'Freelance Content Creator',\n",
       "   'name': 'Aliya Doszhanova',\n",
       "   'role': 'User Experience Specialist',\n",
       "   'description': 'As a native Kazakh speaker with experience in content creation, she will provide insights into user expectations and practical applications of the LLM, ensuring that generated outputs are user-friendly and culturally appropriate.'}]}"
      ]
     },
     "execution_count": 9,
     "metadata": {},
     "output_type": "execute_result"
    }
   ],
   "source": [
    "perspectives = await survey_subjects.ainvoke(example_topic)\n",
    "perspectives.dict()"
   ]
  },
  {
   "cell_type": "markdown",
   "metadata": {},
   "source": [
    "# Expert Dialog"
   ]
  },
  {
   "cell_type": "markdown",
   "metadata": {},
   "source": [
    "## Interview State"
   ]
  },
  {
   "cell_type": "code",
   "execution_count": 10,
   "metadata": {},
   "outputs": [],
   "source": [
    "from typing import Annotated\n",
    "from langchain_core.messages import AnyMessage\n",
    "from typing_extensions import TypedDict\n",
    "from langgraph.graph import END, StateGraph, START\n",
    "\n",
    "def add_message(left, right):\n",
    "    if not isinstance(left, list):\n",
    "        left = [left]\n",
    "    if not isinstance(right, list):\n",
    "        right = [right]\n",
    "    return left + right\n",
    "\n",
    "def update_references(references, new_references):\n",
    "    if not references:\n",
    "        references = {}\n",
    "    references.update(new_references)\n",
    "    return references\n",
    "\n",
    "def update_editor(editor, new_editor):\n",
    "    # Can only set at the outset\n",
    "    if not editor:\n",
    "        return new_editor\n",
    "    return editor\n",
    "\n",
    "class InterviewState(TypedDict):\n",
    "    messages: Annotated[List[AnyMessage], add_message]\n",
    "    references: Annotated[Optional[dict], update_references]\n",
    "    editor: Annotated[Optional[Editor], update_editor]\n"
   ]
  },
  {
   "cell_type": "markdown",
   "metadata": {},
   "source": [
    "## Dialog Roles"
   ]
  },
  {
   "cell_type": "code",
   "execution_count": 28,
   "metadata": {},
   "outputs": [],
   "source": [
    "from langchain_core.messages import AIMessage, HumanMessage, ToolMessage\n",
    "from langchain_core.prompts import MessagesPlaceholder\n",
    "\n",
    "gen_qn_prompt = ChatPromptTemplate.from_messages(\n",
    "        [\n",
    "            (\n",
    "    \"system\",\n",
    "            \"\"\"You are an experienced Wikipedia writer and want to edit a specific page. \\\n",
    "            Besides your identity as a Wikipedia writer, you have a specific focus when researching the topic. \\\n",
    "            Now, you are chatting with an expert to get information. Ask good questions to get more useful information.  \\\n",
    "            When you have no more questions to ask, say \"Thank you so much for your help!\" to end the conversation.\\\n",
    "            Please only ask one question at a time and don't ask what you have asked before.\\\n",
    "            Your questions should be related to the topic you want to write.\n",
    "            Be comprehensive and curious, gaining as much unique insight from the expert as possible.\\\n",
    "            Stay true to your specific perspective: {persona}\"\"\",\n",
    "        ),\n",
    "        MessagesPlaceholder(variable_name=\"messages\", optional=True),\n",
    "        ]\n",
    "    )\n",
    "\n",
    "def tag_with_name(ai_message: AIMessage, name: str):\n",
    "    valid_name = ''.join(c for c in name if c.isalnum() or c in ['_', '-'])\n",
    "    ai_message.name = valid_name\n",
    "    return ai_message\n",
    "\n",
    "def swap_roles(state: InterviewState, name: str):\n",
    "    converted = []\n",
    "    for message in state['messages']:\n",
    "        if isinstance(message, AIMessage) and message.name != name:\n",
    "            message = HumanMessage(**message.model_dump(exclude={\"type\"}))\n",
    "        converted.append(message)\n",
    "    return {\"messages\": converted}\n",
    "\n",
    "@as_runnable\n",
    "async def generate_question(state: InterviewState):\n",
    "    editor = state[\"editor\"]\n",
    "    gn_chain = (\n",
    "        RunnableLambda(swap_roles).bind(name=editor.name)\n",
    "        | gen_qn_prompt.partial(persona=editor.persona)\n",
    "        | fast_llm\n",
    "        | RunnableLambda(tag_with_name).bind(name=editor.name)\n",
    "    )\n",
    "    result = await gn_chain.ainvoke(state)\n",
    "    return {\"messages\": [result]}"
   ]
  },
  {
   "cell_type": "code",
   "execution_count": 29,
   "metadata": {},
   "outputs": [
    {
     "data": {
      "text/plain": [
       "'I’m actually focused on enhancing content related to the linguistic properties of the Kazakh language, including its grammatical structure and regional dialects. What specific aspects of Kazakh syntax or colloquialisms do you think are most important for a language model to understand in order to generate natural Kazakh text?'"
      ]
     },
     "execution_count": 29,
     "metadata": {},
     "output_type": "execute_result"
    }
   ],
   "source": [
    "messages = [\n",
    "    HumanMessage(f\"So you said you were writing an article on {example_topic}?\")\n",
    "]\n",
    "question = await generate_question.ainvoke(\n",
    "    {\n",
    "        \"editor\": perspectives.editors[0],\n",
    "        \"messages\": messages,\n",
    "    }\n",
    ")\n",
    "question[\"messages\"][0].content"
   ]
  },
  {
   "cell_type": "code",
   "execution_count": 30,
   "metadata": {},
   "outputs": [],
   "source": [
    "class Queries(BaseModel):\n",
    "    queries: List[str] = Field(\n",
    "        description=\"Comprehensive list of search engine queries to answer the user's questions.\",\n",
    "    )\n",
    "gen_queries_prompt = ChatPromptTemplate.from_messages(\n",
    "    [\n",
    "        (\n",
    "            \"system\",\n",
    "            \"You are a helpful research assistant. Query the search engine to answer the user's questions.\",\n",
    "        ),\n",
    "        MessagesPlaceholder(variable_name=\"messages\", optional=True),\n",
    "    ]\n",
    ")\n",
    "gen_queries_chain = gen_queries_prompt | ChatOpenAI(\n",
    "    model_name=\"gpt-4o-mini\"\n",
    ").with_structured_output(Queries, include_raw=True)"
   ]
  },
  {
   "cell_type": "code",
   "execution_count": 31,
   "metadata": {},
   "outputs": [
    {
     "data": {
      "text/plain": [
       "['Kazakh language grammatical structure',\n",
       " 'Kazakh syntax rules',\n",
       " 'Kazakh language regional dialects',\n",
       " 'important aspects of Kazakh syntax',\n",
       " 'colloquial expressions in Kazakh',\n",
       " 'Kazakh language morphological features',\n",
       " 'Kazakh sentence structure variations',\n",
       " 'Kazakh verb conjugation rules',\n",
       " 'Kazakh noun cases and usage',\n",
       " 'Kazakh language idiomatic expressions',\n",
       " 'differences between Kazakh dialects',\n",
       " 'Kazakh language punctuation rules',\n",
       " 'Kazakh prepositions and their usage',\n",
       " 'impact of regional dialects on Kazakh written language',\n",
       " 'language model training for Kazakh text generation']"
      ]
     },
     "execution_count": 31,
     "metadata": {},
     "output_type": "execute_result"
    }
   ],
   "source": [
    "queries = await gen_queries_chain.ainvoke(\n",
    "    {\"messages\": [HumanMessage(content=question[\"messages\"][0].content)]}\n",
    ")\n",
    "queries['parsed'].queries"
   ]
  },
  {
   "cell_type": "code",
   "execution_count": 32,
   "metadata": {},
   "outputs": [],
   "source": [
    "class AnswerWithCitations(BaseModel):\n",
    "    answer: str = Field(\n",
    "        description=\"Comprehensive answer to the user's question with citations.\",\n",
    "    )\n",
    "    cited_urls: List[str] = Field(\n",
    "        description=\"List of urls cited in the answer\",\n",
    "    )\n",
    "    @property\n",
    "    def as_str(self) -> str:\n",
    "        return f\"{self.answer}\\n\\nCitations:\\n\\n\" + \"\\n\".join(\n",
    "            f\"[{i+1}]: {url}\" for i, url in enumerate(self.cited_urls)\n",
    "        )\n",
    "gen_answer_prompt = ChatPromptTemplate.from_messages(\n",
    "    [\n",
    "        (\n",
    "            \"system\",\n",
    "            \"\"\"You are an expert who can use information effectively. You are chatting with a Wikipedia writer who wants\\\n",
    "                to write a Wikipedia page on the topic you know. You have gathered the related information and will now use the information to form a response.\\\n",
    "            Make your response as informative as possible and make sure every sentence is supported by the gathered information.\\\n",
    "Each response must be backed up by a citation from a reliable source, formatted as a footnote, reproducing the URLS after your response.\"\"\",\n",
    "        ),\n",
    "        MessagesPlaceholder(variable_name=\"messages\", optional=True),\n",
    "    ]\n",
    ")\n",
    "\n",
    "gen_answer_chain = gen_answer_prompt | fast_llm.with_structured_output(\n",
    "    AnswerWithCitations, include_raw=True\n",
    ").with_config(run_name=\"GenerateAnswer\")"
   ]
  },
  {
   "cell_type": "code",
   "execution_count": 33,
   "metadata": {},
   "outputs": [],
   "source": [
    "from langchain_community.utilities.duckduckgo_search import DuckDuckGoSearchAPIWrapper\n",
    "from langchain_core.tools import tool\n",
    "\n",
    "search_engine = DuckDuckGoSearchAPIWrapper()\n",
    "\n",
    "@tool\n",
    "async def search_engine(query: str) -> str:\n",
    "    \"\"\"Search engine to the internet.\"\"\"\n",
    "    results = DuckDuckGoSearchAPIWrapper()._ddgs_text(query)\n",
    "    return [{\"content\": r[\"body\"], \"url\": r['href']} for r in results]"
   ]
  },
  {
   "cell_type": "code",
   "execution_count": 34,
   "metadata": {},
   "outputs": [],
   "source": [
    "import json\n",
    "from langchain_core.runnables import RunnableConfig\n",
    "async def gen_answer(\n",
    "        state: InterviewState,\n",
    "        config: Optional[RunnableConfig] = None,\n",
    "        name: str = \"Subject_Matter_Expert\",\n",
    "        max_str_len: int = 15000,\n",
    "):\n",
    "    valid_name = ''.join(c for c in name if c.isalnum() or c in ['_', '-'])\n",
    "    swapped_state = swap_roles(state, valid_name) # Convert all other AI messages\n",
    "    queries = await gen_queries_chain.ainvoke(swapped_state)\n",
    "    query_results = await search_engine.abatch(\n",
    "        queries['parsed'].queries, config, return_exceptions=True\n",
    "    )\n",
    "    successfull_results = [\n",
    "        res for res in query_results if not isinstance(res, Exception)\n",
    "    ]\n",
    "    all_query_results = {\n",
    "        res['url']: res['content'] for results in successfull_results for res in results\n",
    "    }\n",
    "\n",
    "    dumped = json.dumps(all_query_results)[:max_str_len]\n",
    "    ai_message: AIMessage = queries[\"raw\"]\n",
    "    \n",
    "    # Check if tool_calls is not empty\n",
    "    if ai_message.tool_calls:\n",
    "        tool_call = ai_message.tool_calls[0]\n",
    "        tool_id = tool_call[\"id\"]\n",
    "        tool_message = ToolMessage(tool_call_id=tool_id, content=dumped)\n",
    "        swapped_state[\"messages\"].extend([ai_message, tool_message])\n",
    "    else:\n",
    "        # Handle the case where tool_calls is empty\n",
    "        print(\"Warning: No tool calls found in the AI message.\")\n",
    "        return {\"messages\": [ai_message], \"references\": {}}\n",
    "\n",
    "    # Only update the shared state with the final answer to avoid\n",
    "    # polluting the dialogue history with intermediate messages\n",
    "    generated = await gen_answer_chain.ainvoke(swapped_state)\n",
    "    cited_urls = set(generated[\"parsed\"].cited_urls)\n",
    "    # Save the retrieved information to the shared state for future reference\n",
    "    cited_references = {k: v for k, v in all_query_results.items() if k in cited_urls}\n",
    "    formatted_message = AIMessage(name=name, content=generated[\"parsed\"].as_str)\n",
    "    return {\"messages\": [formatted_message], \"references\": cited_references}"
   ]
  },
  {
   "cell_type": "code",
   "execution_count": 35,
   "metadata": {},
   "outputs": [
    {
     "name": "stdout",
     "output_type": "stream",
     "text": [
      "Warning: No tool calls found in the AI message.\n"
     ]
    },
    {
     "data": {
      "text/plain": [
       "'{\"queries\":[\"Kazakh language grammatical structure\",\"Kazakh syntax rules\",\"Kazakh language regional dialects\",\"Important colloquialisms in Kazakh\",\"Kazakh sentence structure\",\"Kazakh morphology and syntax\",\"Common phrases in Kazakh dialects\",\"Kazakh language phonetics and phonology\",\"Differences between Kazakh dialects\",\"Natural language processing in Kazakh\",\"Kazakh verb conjugation patterns\",\"Kazakh noun cases\",\"Kazakh pronouns and their usage\",\"Kazakh language idiomatic expressions\",\"Contextual usage of Kazakh expressions\",\"Language model training for Kazakh\"]}'"
      ]
     },
     "execution_count": 35,
     "metadata": {},
     "output_type": "execute_result"
    }
   ],
   "source": [
    "example_answer  = await gen_answer(\n",
    "    {\"messages\": [HumanMessage(content=question[\"messages\"][0].content)]}\n",
    ")\n",
    "example_answer[\"messages\"][-1].content"
   ]
  },
  {
   "cell_type": "markdown",
   "metadata": {},
   "source": [
    "## Construct the Interview Graph"
   ]
  },
  {
   "cell_type": "code",
   "execution_count": 36,
   "metadata": {},
   "outputs": [],
   "source": [
    "max_num_turns = 5\n",
    "from langgraph.pregel import RetryPolicy\n",
    "\n",
    "def route_messages(state: InterviewState, name: str = \"Subject_Matter_Expert\"):\n",
    "    messages = state[\"messages\"]\n",
    "    num_responses = len(\n",
    "        [m for m in messages if isinstance(m, AIMessage) and m.name == name]\n",
    "    )\n",
    "    if num_responses >= max_num_turns:\n",
    "        return END\n",
    "    last_question = messages[-2]\n",
    "    if last_question.content.endswith(\"Thank you so much for your help!\"):\n",
    "        return END\n",
    "    return \"ask_question\"\n",
    "\n",
    "builder = StateGraph(InterviewState)\n",
    "builder.add_node(\"ask_question\", generate_question, retry=RetryPolicy(max_attempts=5))\n",
    "builder.add_node(\"answer_question\", gen_answer, retry=RetryPolicy(max_attempts=5))\n",
    "builder.add_conditional_edges(\"answer_question\", route_messages)\n",
    "builder.add_edge(\"ask_question\", \"answer_question\")\n",
    "\n",
    "\n",
    "builder.add_edge(START, \"ask_question\")\n",
    "interview_graph = builder.compile(checkpointer=False).with_config(run_name=\"Conduct Interviews\")"
   ]
  },
  {
   "cell_type": "code",
   "execution_count": 37,
   "metadata": {},
   "outputs": [
    {
     "data": {
      "image/png": "[encoded data removed]",
      "text/plain": [
       "<IPython.core.display.Image object>"
      ]
     },
     "metadata": {},
     "output_type": "display_data"
    }
   ],
   "source": [
    "from IPython.display import Image, display\n",
    "try:\n",
    "    display(Image(interview_graph.get_graph().draw_mermaid_png()))\n",
    "except Exception as e:\n",
    "    print(e)"
   ]
  },
  {
   "cell_type": "code",
   "execution_count": null,
   "metadata": {},
   "outputs": [],
   "source": [
    "final_step = None\n",
    "initial_state = {\n",
    "    \"editor\": perspectives.editors[0],\n",
    "    \"messages\": [\n",
    "        AIMessage(\n",
    "            content=f\"So you said you were writing an article on {example_topic}?\",\n",
    "            name=\"Subject_Matter_Expert\",\n",
    "        )\n",
    "    ],\n",
    "\n",
    "}\n",
    "async for step in interview_graph.astream(initial_state):\n",
    "    name = next(iter(step))\n",
    "    print(name)\n",
    "    print(\"--\", str(step[name]['messages'])[:300])\n",
    "final_step = step"
   ]
  },
  {
   "cell_type": "code",
   "execution_count": null,
   "metadata": {},
   "outputs": [],
   "source": [
    "final_state = next(iter(final_step.values()))\n"
   ]
  },
  {
   "cell_type": "markdown",
   "metadata": {},
   "source": [
    "# Refine Outline"
   ]
  },
  {
   "cell_type": "code",
   "execution_count": null,
   "metadata": {},
   "outputs": [],
   "source": [
    "refine_outline_prompt = ChatPromptTemplate.from_messages(\n",
    "    [\n",
    "        (\n",
    "            \"system\",\n",
    "            \"\"\"You are a Wikipedia writer. You have gathered information from experts and search engines. \\\n",
    "                Now, you are refining the outline of the Wikipedia page. \\\n",
    "                You need to make sure that the outline is comprehensive and specific. \\\n",
    "                Topic you are writing about: {topic} \\\n",
    "                Old outline: {old_outline}\"\"\",\n",
    "        ),\n",
    "        \n",
    "    ]\n",
    ")"
   ]
  }
 ],
 "metadata": {
  "kernelspec": {
   "display_name": "llm",
   "language": "python",
   "name": "python3"
  },
  "language_info": {
   "codemirror_mode": {
    "name": "ipython",
    "version": 3
   },
   "file_extension": ".py",
   "mimetype": "text/x-python",
   "name": "python",
   "nbconvert_exporter": "python",
   "pygments_lexer": "ipython3",
   "version": "3.11.11"
  }
 },
 "nbformat": 4,
 "nbformat_minor": 2
}
